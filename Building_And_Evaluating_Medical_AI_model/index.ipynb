{
 "cells": [
  {
   "cell_type": "code",
   "execution_count": 1,
   "metadata": {},
   "outputs": [],
   "source": [
    "%matplotlib inline\n",
    "\n",
    "import sklearn.metrics\n",
    "import random\n",
    "import tensorflow as tf\n",
    "import matplotlib.pyplot as plt\n",
    "import os\n",
    "import io\n",
    "import glob\n",
    "import scipy.misc\n",
    "import numpy as np\n",
    "import pandas as pd\n",
    "import matplotlib\n",
    "import shutil\n",
    "import matplotlib.image as mping\n",
    "from six import BytesIO\n",
    "from PIL import Image, ImageDraw, ImageFont\n",
    "from tensorflow.keras.applications.inception_v3 import InceptionV3\n",
    "from tensorflow.keras import layers\n",
    "from tensorflow.keras import Model\n",
    "from tensorflow.keras.optimizers import RMSprop\n",
    "from tensorflow.keras.preprocessing.image import ImageDataGenerator\n",
    "\n"
   ]
  },
  {
   "cell_type": "code",
   "execution_count": 2,
   "metadata": {},
   "outputs": [],
   "source": [
    "def load_image_into_numpy_array(image):\n",
    "    image = image.convert('RGB')\n",
    "    (im_width, im_height) = image.size\n",
    "    return np.array(image.getdata()).reshape(\n",
    "        (im_height, im_width,3)).astype(np.uint8)"
   ]
  },
  {
   "cell_type": "code",
   "execution_count": 3,
   "metadata": {},
   "outputs": [],
   "source": [
    "finding = \"cardiomegaly\"\n",
    "finding = finding.capitalize() \n",
    "# digunakan untuk mengubah huruf pertama dalam sebuah string menjadi huruf besar (kapital)"
   ]
  },
  {
   "cell_type": "code",
   "execution_count": 4,
   "metadata": {},
   "outputs": [
    {
     "data": {
      "text/html": [
       "<div>\n",
       "<style scoped>\n",
       "    .dataframe tbody tr th:only-of-type {\n",
       "        vertical-align: middle;\n",
       "    }\n",
       "\n",
       "    .dataframe tbody tr th {\n",
       "        vertical-align: top;\n",
       "    }\n",
       "\n",
       "    .dataframe thead th {\n",
       "        text-align: right;\n",
       "    }\n",
       "</style>\n",
       "<table border=\"1\" class=\"dataframe\">\n",
       "  <thead>\n",
       "    <tr style=\"text-align: right;\">\n",
       "      <th></th>\n",
       "      <th>filename</th>\n",
       "      <th>height</th>\n",
       "      <th>width</th>\n",
       "      <th>label</th>\n",
       "      <th>xmin</th>\n",
       "      <th>ymin</th>\n",
       "      <th>xmax</th>\n",
       "      <th>ymax</th>\n",
       "      <th>view</th>\n",
       "    </tr>\n",
       "  </thead>\n",
       "  <tbody>\n",
       "    <tr>\n",
       "      <th>0</th>\n",
       "      <td>00013118_008.jpg</td>\n",
       "      <td>2992</td>\n",
       "      <td>2991</td>\n",
       "      <td>Atelectasis</td>\n",
       "      <td>225.0</td>\n",
       "      <td>547.0</td>\n",
       "      <td>311.0</td>\n",
       "      <td>626.0</td>\n",
       "      <td>PA</td>\n",
       "    </tr>\n",
       "    <tr>\n",
       "      <th>1</th>\n",
       "      <td>00014716_007.jpg</td>\n",
       "      <td>3056</td>\n",
       "      <td>2544</td>\n",
       "      <td>Atelectasis</td>\n",
       "      <td>686.0</td>\n",
       "      <td>131.0</td>\n",
       "      <td>871.0</td>\n",
       "      <td>444.0</td>\n",
       "      <td>AP</td>\n",
       "    </tr>\n",
       "    <tr>\n",
       "      <th>2</th>\n",
       "      <td>00029817_009.jpg</td>\n",
       "      <td>3056</td>\n",
       "      <td>2544</td>\n",
       "      <td>Atelectasis</td>\n",
       "      <td>221.0</td>\n",
       "      <td>317.0</td>\n",
       "      <td>376.0</td>\n",
       "      <td>533.0</td>\n",
       "      <td>AP</td>\n",
       "    </tr>\n",
       "    <tr>\n",
       "      <th>3</th>\n",
       "      <td>00014687_001.jpg</td>\n",
       "      <td>2500</td>\n",
       "      <td>2048</td>\n",
       "      <td>Atelectasis</td>\n",
       "      <td>726.0</td>\n",
       "      <td>494.0</td>\n",
       "      <td>867.0</td>\n",
       "      <td>549.0</td>\n",
       "      <td>AP</td>\n",
       "    </tr>\n",
       "    <tr>\n",
       "      <th>4</th>\n",
       "      <td>00017877_001.jpg</td>\n",
       "      <td>2500</td>\n",
       "      <td>2048</td>\n",
       "      <td>Atelectasis</td>\n",
       "      <td>660.0</td>\n",
       "      <td>569.0</td>\n",
       "      <td>860.0</td>\n",
       "      <td>647.0</td>\n",
       "      <td>AP</td>\n",
       "    </tr>\n",
       "  </tbody>\n",
       "</table>\n",
       "</div>"
      ],
      "text/plain": [
       "           filename  height  width        label   xmin   ymin   xmax   ymax  \\\n",
       "0  00013118_008.jpg    2992   2991  Atelectasis  225.0  547.0  311.0  626.0   \n",
       "1  00014716_007.jpg    3056   2544  Atelectasis  686.0  131.0  871.0  444.0   \n",
       "2  00029817_009.jpg    3056   2544  Atelectasis  221.0  317.0  376.0  533.0   \n",
       "3  00014687_001.jpg    2500   2048  Atelectasis  726.0  494.0  867.0  549.0   \n",
       "4  00017877_001.jpg    2500   2048  Atelectasis  660.0  569.0  860.0  647.0   \n",
       "\n",
       "  view  \n",
       "0   PA  \n",
       "1   AP  \n",
       "2   AP  \n",
       "3   AP  \n",
       "4   AP  "
      ]
     },
     "execution_count": 4,
     "metadata": {},
     "output_type": "execute_result"
    }
   ],
   "source": [
    "df = pd.read_csv(\"labels.csv\")\n",
    "df.head()"
   ]
  },
  {
   "cell_type": "code",
   "execution_count": 8,
   "metadata": {},
   "outputs": [
    {
     "name": "stdout",
     "output_type": "stream",
     "text": [
      "146\n"
     ]
    }
   ],
   "source": [
    "positives = df.loc[df[\"label\"] == finding]\n",
    "negatives = df.loc[df[\"label\"] == \"No Finding\"]\n",
    "n = len(positives)\n",
    "\n",
    "if n == 0:\n",
    "  print(\"No studies found! Maybe check your spelling?\")\n",
    "  assert (n > 0)\n",
    "\n",
    "print(n)"
   ]
  },
  {
   "cell_type": "markdown",
   "metadata": {},
   "source": [
    "## validasi silang"
   ]
  },
  {
   "cell_type": "code",
   "execution_count": 7,
   "metadata": {},
   "outputs": [
    {
     "name": "stdout",
     "output_type": "stream",
     "text": [
      "116 29\n"
     ]
    }
   ],
   "source": [
    "TRAIN_RATIO = 0.8\n",
    "TEST_RATIO = 0.2\n",
    "n = len(positives)\n",
    "TRAIN_N = int(n*TRAIN_RATIO)\n",
    "TEST_N = int(n*TEST_RATIO)\n",
    "print(TRAIN_N, TEST_N)"
   ]
  },
  {
   "cell_type": "code",
   "execution_count": 9,
   "metadata": {},
   "outputs": [],
   "source": [
    "train_labels = pd.concat([positives[:TRAIN_N], negatives[:TRAIN_N]])\n",
    "test_labels = pd.concat([positives[TRAIN_N:], negatives[TRAIN_N:n]])"
   ]
  }
 ],
 "metadata": {
  "kernelspec": {
   "display_name": "tensorflow",
   "language": "python",
   "name": "python3"
  },
  "language_info": {
   "codemirror_mode": {
    "name": "ipython",
    "version": 3
   },
   "file_extension": ".py",
   "mimetype": "text/x-python",
   "name": "python",
   "nbconvert_exporter": "python",
   "pygments_lexer": "ipython3",
   "version": "3.9.17"
  },
  "orig_nbformat": 4
 },
 "nbformat": 4,
 "nbformat_minor": 2
}
